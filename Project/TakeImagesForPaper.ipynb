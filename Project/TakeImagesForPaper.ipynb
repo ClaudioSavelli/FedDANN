{
 "cells": [
  {
   "cell_type": "code",
   "execution_count": 85,
   "metadata": {},
   "outputs": [],
   "source": [
    "import copy\n",
    "import random\n",
    "import cv2\n",
    "from matplotlib import pyplot as plt\n",
    "import numpy as np\n",
    "import torch \n",
    "import torch.nn as nn \n",
    "import torch.optim as optim \n",
    "from torchvision import datasets\n",
    "import torchvision.transforms as transforms\n",
    "from models.cnn1 import My_CNN\n",
    "from utils.stream_metrics import StreamClsMetrics\n",
    "\n",
    "import datasets.np_transforms as nptr\n",
    "from datasets.femnist import Femnist\n",
    "\n",
    "from utils.args import get_parser\n",
    "import sys\n",
    "import os \n",
    "import json\n",
    "\n",
    "import wandb\n",
    "\n",
    "imageDim = 28*28\n",
    "\n",
    "def set_seed(random_seed):\n",
    "    np.random.seed(random_seed)\n",
    "    torch.manual_seed(random_seed)\n",
    "    torch.cuda.manual_seed(random_seed)\n",
    "    torch.cuda.manual_seed_all(random_seed)\n",
    "    torch.backends.cudnn.benchmark = False\n",
    "    torch.backends.cudnn.deterministic = True\n",
    "\n",
    "def set_metrics():\n",
    "    num_classes = 62\n",
    "    \n",
    "    metrics = {\n",
    "            'eval_train': StreamClsMetrics(num_classes, 'eval_train'),\n",
    "            'test': StreamClsMetrics(num_classes, 'test'),\n",
    "            'l1O': StreamClsMetrics(num_classes, 'l1O')\n",
    "    }\n",
    "    \n",
    "    return metrics\n",
    "\n",
    "@staticmethod\n",
    "def update_metric(metric, outputs, labels):\n",
    "    _, prediction = outputs.max(dim=1)\n",
    "    labels = labels.cpu().numpy()\n",
    "    prediction = prediction.cpu().numpy()\n",
    "    metric.update(labels, prediction)\n",
    "\n",
    "def get_transforms_rotated():\n",
    "    \n",
    "    normalize = transforms.Normalize(\n",
    "    mean=0.1736,\n",
    "    std=0.3248,\n",
    "    )\n",
    "\n",
    "    angles = [0, 15, 30, 45, 60, 75]\n",
    "    myAngleTransforms = []\n",
    "    for theta in angles:\n",
    "        t = transforms.Compose([\n",
    "            transforms.ToPILImage(),\n",
    "            transforms.RandomRotation(degrees=(theta, theta), fill=(1,)),\n",
    "            transforms.ToTensor(),\n",
    "            normalize,\n",
    "        ])\n",
    "        myAngleTransforms.append(copy.deepcopy(t))\n",
    "\n",
    "    test_transforms = nptr.Compose([\n",
    "        transforms.ToPILImage(),\n",
    "        transforms.ToTensor(),\n",
    "        normalize,\n",
    "    ])\n",
    "\n",
    "    return myAngleTransforms, test_transforms\n",
    "\n",
    "class MotionBlur(object):\n",
    "    def __init__(self, size = 28):\n",
    "        self.size = size\n",
    "        self.kernel1 = np.ones((3, 3), np.float32)/10\n",
    "        \n",
    "    def __call__(self, image):\n",
    "        image = cv2.filter2D(src = np.array(image), ddepth = -1, kernel = self.kernel1)\n",
    "        image = torch.from_numpy(image)\n",
    "        return image\n",
    "    \n",
    "    def __repr__(self):\n",
    "        return self.__class__.__name__+'()'\n",
    "    \n",
    "class add_noise(object):\n",
    "    def __call__(self, inputs, noise_factor=0.15):\n",
    "        \"\"\"\n",
    "        :param img: (Tensor): Image \n",
    "\n",
    "        :return: Noisy image (Tensor)\n",
    "        \"\"\"\n",
    "        \n",
    "        noisy = inputs + torch.randn_like(inputs) * noise_factor\n",
    "        noisy = torch.clip(noisy, 0., 1.)\n",
    "        return noisy\n",
    "\n",
    "    def __repr__(self):\n",
    "        return self.__class__.__name__+'()'\n",
    "\n",
    "def get_personal_transforms():\n",
    "    normalize = transforms.Normalize(\n",
    "    mean=0.1736,\n",
    "    std=0.3248,\n",
    "    )\n",
    "\n",
    "    angles = [0, 15, 30, 45, 60, 75]\n",
    "    myAngleTransforms = []\n",
    "    for theta in angles:\n",
    "        if theta == 0:\n",
    "            t = transforms.Compose([\n",
    "                transforms.ToTensor(),\n",
    "                normalize,\n",
    "            ])\n",
    "        elif theta == 15:\n",
    "            t = transforms.Compose([\n",
    "                transforms.ToTensor(),\n",
    "                MotionBlur(), \n",
    "                normalize,\n",
    "            ])\n",
    "        elif theta == 30:\n",
    "            t = transforms.Compose([\n",
    "                transforms.ToTensor(),\n",
    "                transforms.RandomInvert(p=1.0),\n",
    "                normalize,\n",
    "            ]) \n",
    "        elif theta == 45:\n",
    "            t = transforms.Compose([\n",
    "                transforms.ToTensor(),\n",
    "                transforms.RandomRotation(degrees=(theta, theta), fill=(1,)),\n",
    "                normalize,\n",
    "            ])\n",
    "        elif theta == 60:\n",
    "            t = transforms.Compose([\n",
    "                transforms.ToTensor(),\n",
    "                add_noise(),\n",
    "                normalize,\n",
    "            ])\n",
    "        elif theta == 75:\n",
    "            t = transforms.Compose([\n",
    "                transforms.ToTensor(),\n",
    "                transforms.RandomAffine(degrees=0, translate=(0.25,0.25), scale=(0.8,1.2), fill=1),\n",
    "                normalize,\n",
    "            ])\n",
    "        myAngleTransforms.append(copy.deepcopy(t))\n",
    "\n",
    "    test_transforms = nptr.Compose([\n",
    "        transforms.ToTensor(),\n",
    "        normalize,\n",
    "    ])\n",
    "    \n",
    "    return myAngleTransforms, test_transforms\n",
    "\n",
    "def apply_transforms(train_datasets, test_datasets):\n",
    "    l1o_datasets = []\n",
    "\n",
    "    train_transform_list, test_transforms = get_transforms_rotated()\n",
    "\n",
    "    total_clients = 1002\n",
    "    n_clients_per_angle = total_clients // 6\n",
    "    for i, dataset in enumerate(train_datasets):\n",
    "        transform_to_do = i // n_clients_per_angle\n",
    "        dataset.set_transform(train_transform_list[ transform_to_do if i < total_clients else 0 ])\n",
    "\n",
    "    for dataset in test_datasets:\n",
    "        dataset.set_transform(test_transforms)\n",
    "\n",
    "    return train_datasets, test_datasets, l1o_datasets\n",
    "\n",
    "def my_read_femnist_dir(data_dir, is_test_mode = False):\n",
    "    data = []\n",
    "    files = os.listdir(data_dir)\n",
    "    files = [f for f in files if f.endswith('.json')]\n",
    "    random.shuffle(files)\n",
    "    files = np.random.choice(files, size = len(files)//16)\n",
    "    \n",
    "\n",
    "    i = 1\n",
    "    for f in files:\n",
    "        #Loading bar\n",
    "        sys.stdout.write('\\r')\n",
    "        sys.stdout.write(\"%d / %d\" % (i, len(files)))\n",
    "        sys.stdout.flush()\n",
    "        file_path = os.path.join(data_dir, f)\n",
    "        \n",
    "        with open(file_path, 'r') as inf:\n",
    "            cdata = json.load(inf)\n",
    "            for user, images in cdata['user_data'].items():    \n",
    "                data.append(Femnist(images, None, user))\n",
    "        i += 1\n",
    "    \n",
    "    return data\n",
    "\n",
    "def unify_clients(dataset):\n",
    "    all_data = {}\n",
    "    all_data['x'] = []\n",
    "    all_data['y'] = []\n",
    "    i = 0\n",
    "\n",
    "    for client in dataset: \n",
    "        list_ = client.get_list_of_samples()\n",
    "\n",
    "        for img, label in list_:\n",
    "            all_data['x'].append(img)\n",
    "            all_data['y'].append(label)\n",
    "        i += 1\n",
    "        if i == 10: return all_data\n",
    "    \n",
    "    return Femnist(all_data, None, \"Centralised User\")\n",
    "\n",
    "def my_read_femnist_data(train_data_dir, test_data_dir, is_test_mode):\n",
    "    return my_read_femnist_dir(train_data_dir, is_test_mode), \\\n",
    "           my_read_femnist_dir(test_data_dir, is_test_mode)\n",
    "\n",
    "def get_datasets():\n",
    "\n",
    "    train_datasets = []\n",
    "\n",
    "    niid = False\n",
    "    train_data_dir = os.path.join('data', 'femnist', 'data', 'niid' if niid else 'iid', 'train')\n",
    "    test_data_dir = os.path.join('data', 'femnist', 'data', 'niid' if niid else 'iid', 'test')\n",
    "    train_datasets, test_datasets = my_read_femnist_data(train_data_dir, test_data_dir, True)\n",
    "\n",
    "    return train_datasets, test_datasets"
   ]
  },
  {
   "cell_type": "code",
   "execution_count": 42,
   "metadata": {},
   "outputs": [
    {
     "name": "stdout",
     "output_type": "stream",
     "text": [
      "2 / 2"
     ]
    }
   ],
   "source": [
    "p = 0.25\n",
    "\n",
    "set_seed(69)\n",
    "\n",
    "train_datasets, _ = get_datasets()\n",
    "\n",
    "images = unify_clients(train_datasets)"
   ]
  },
  {
   "attachments": {},
   "cell_type": "markdown",
   "metadata": {},
   "source": [
    "Images è una lista con 10 immagini, è possibile vedere singolarmente queste cambiando la i nella prossima window, e da lì si possono selezionare le immagini che si preferiscono, dopodichè con i due snippet alla fine è possibile salvare per ogni trasforamzione una immagine andando semplicemente a definire la cartella di destinazione"
   ]
  },
  {
   "cell_type": "code",
   "execution_count": 51,
   "metadata": {},
   "outputs": [
    {
     "name": "stdout",
     "output_type": "stream",
     "text": [
      "label 39\n"
     ]
    },
    {
     "data": {
      "image/png": "[encoded data removed]",
      "text/plain": [
       "<Figure size 640x480 with 1 Axes>"
      ]
     },
     "metadata": {},
     "output_type": "display_data"
    }
   ],
   "source": [
    "i = 8\n",
    "img = images[\"x\"][i]\n",
    "label = images[\"y\"][i]\n",
    "img = np.array(img).reshape(28,28)\n",
    "print(\"label\", label)\n",
    "plt.imshow(img, cmap=\"gray\")\n",
    "plt.show()"
   ]
  },
  {
   "cell_type": "code",
   "execution_count": 27,
   "metadata": {},
   "outputs": [
    {
     "name": "stdout",
     "output_type": "stream",
     "text": [
      "label 4\n"
     ]
    },
    {
     "data": {
      "image/png": "[encoded data removed]",
      "text/plain": [
       "<Figure size 640x480 with 1 Axes>"
      ]
     },
     "metadata": {},
     "output_type": "display_data"
    }
   ],
   "source": [
    "#img1 = images[\"x\"][6]\n",
    "#label1 = images[\"y\"][6]\n",
    "img1 = np.array(img1).reshape(28,28)\n",
    "print(\"label\", label1)\n",
    "plt.imshow(img1, cmap=\"gray\")\n",
    "plt.show()"
   ]
  },
  {
   "cell_type": "code",
   "execution_count": 28,
   "metadata": {},
   "outputs": [
    {
     "name": "stdout",
     "output_type": "stream",
     "text": [
      "label 0\n"
     ]
    },
    {
     "data": {
      "image/png": "[encoded data removed]",
      "text/plain": [
       "<Figure size 640x480 with 1 Axes>"
      ]
     },
     "metadata": {},
     "output_type": "display_data"
    }
   ],
   "source": [
    "img2 = images[\"x\"][0]\n",
    "label2 = images[\"y\"][0]\n",
    "img2 = np.array(img2).reshape(28,28)\n",
    "print(\"label\", label2)\n",
    "plt.imshow(img2, cmap=\"gray\")\n",
    "plt.show()"
   ]
  },
  {
   "cell_type": "code",
   "execution_count": 41,
   "metadata": {},
   "outputs": [
    {
     "name": "stdout",
     "output_type": "stream",
     "text": [
      "label 16\n"
     ]
    },
    {
     "data": {
      "image/png": "[encoded data removed]",
      "text/plain": [
       "<Figure size 640x480 with 1 Axes>"
      ]
     },
     "metadata": {},
     "output_type": "display_data"
    }
   ],
   "source": [
    "#i = 7\n",
    "#img3 = images[\"x\"][i]\n",
    "#label3 = images[\"y\"][i]\n",
    "img3 = np.array(img3).reshape(28,28)\n",
    "print(\"label\", label3)\n",
    "plt.imshow(img3, cmap=\"gray\")\n",
    "plt.show()"
   ]
  },
  {
   "cell_type": "code",
   "execution_count": 52,
   "metadata": {},
   "outputs": [
    {
     "name": "stdout",
     "output_type": "stream",
     "text": [
      "label 39\n"
     ]
    },
    {
     "data": {
      "image/png": "[encoded data removed]",
      "text/plain": [
       "<Figure size 640x480 with 1 Axes>"
      ]
     },
     "metadata": {},
     "output_type": "display_data"
    }
   ],
   "source": [
    "#i = 8\n",
    "#img4 = images[\"x\"][i]\n",
    "#label4 = images[\"y\"][i]\n",
    "img4 = np.array(img4).reshape(28,28)\n",
    "print(\"label\", label4)\n",
    "plt.imshow(img4, cmap=\"gray\")\n",
    "plt.show()"
   ]
  },
  {
   "cell_type": "code",
   "execution_count": 82,
   "metadata": {},
   "outputs": [],
   "source": [
    "angle_transformations, _ = get_transforms_rotated()\n",
    "personal_transformations, _ = get_personal_transforms()"
   ]
  },
  {
   "cell_type": "code",
   "execution_count": 97,
   "metadata": {},
   "outputs": [
    {
     "data": {
      "image/png": "[encoded data removed]",
      "text/plain": [
       "<Figure size 640x480 with 1 Axes>"
      ]
     },
     "metadata": {},
     "output_type": "display_data"
    },
    {
     "data": {
      "image/png": "[encoded data removed]",
      "text/plain": [
       "<Figure size 640x480 with 1 Axes>"
      ]
     },
     "metadata": {},
     "output_type": "display_data"
    },
    {
     "data": {
      "image/png": "[encoded data removed]",
      "text/plain": [
       "<Figure size 640x480 with 1 Axes>"
      ]
     },
     "metadata": {},
     "output_type": "display_data"
    },
    {
     "data": {
      "image/png": "[encoded data removed]",
      "text/plain": [
       "<Figure size 640x480 with 1 Axes>"
      ]
     },
     "metadata": {},
     "output_type": "display_data"
    },
    {
     "data": {
      "image/png": "[encoded data removed]",
      "text/plain": [
       "<Figure size 640x480 with 1 Axes>"
      ]
     },
     "metadata": {},
     "output_type": "display_data"
    },
    {
     "data": {
      "image/png": "[encoded data removed]",
      "text/plain": [
       "<Figure size 640x480 with 1 Axes>"
      ]
     },
     "metadata": {},
     "output_type": "display_data"
    }
   ],
   "source": [
    "path = os.path.join('Images_Samples', '4')\n",
    "temp = img4\n",
    "for i, tr in enumerate(angle_transformations):\n",
    "    img_np = np.array(temp, dtype=np.float32).reshape((28,28))\n",
    "    img_tr = tr( img_np )\n",
    "    res = np.array(img_tr).reshape(28,28)\n",
    "    fig, ax = plt.subplots()\n",
    "    ax.axis('off')\n",
    "    plt.imshow(res, cmap=\"gray\")\n",
    "    folder = path + f'\\\\{i*15}.png' \n",
    "    plt.savefig(folder, bbox_inches='tight', pad_inches=0.0)"
   ]
  },
  {
   "cell_type": "code",
   "execution_count": 83,
   "metadata": {},
   "outputs": [],
   "source": [
    "list_names = [\"a - normal image\", \"b - MotionBlur\", \"c - InvertColors\", \"d - 45degree rotation\", \"e - noise\", \"f - random translation\"]"
   ]
  },
  {
   "cell_type": "code",
   "execution_count": 93,
   "metadata": {},
   "outputs": [
    {
     "data": {
      "image/png": "[encoded data removed]",
      "text/plain": [
       "<Figure size 640x480 with 1 Axes>"
      ]
     },
     "metadata": {},
     "output_type": "display_data"
    },
    {
     "data": {
      "image/png": "[encoded data removed]",
      "text/plain": [
       "<Figure size 640x480 with 1 Axes>"
      ]
     },
     "metadata": {},
     "output_type": "display_data"
    },
    {
     "data": {
      "image/png": "[encoded data removed]",
      "text/plain": [
       "<Figure size 640x480 with 1 Axes>"
      ]
     },
     "metadata": {},
     "output_type": "display_data"
    },
    {
     "data": {
      "image/png": "[encoded data removed]",
      "text/plain": [
       "<Figure size 640x480 with 1 Axes>"
      ]
     },
     "metadata": {},
     "output_type": "display_data"
    },
    {
     "data": {
      "image/png": "[encoded data removed]",
      "text/plain": [
       "<Figure size 640x480 with 1 Axes>"
      ]
     },
     "metadata": {},
     "output_type": "display_data"
    },
    {
     "data": {
      "image/png": "[encoded data removed]",
      "text/plain": [
       "<Figure size 640x480 with 1 Axes>"
      ]
     },
     "metadata": {},
     "output_type": "display_data"
    }
   ],
   "source": [
    "path = os.path.join('Images_Samples', '1')\n",
    "temp = img1\n",
    "for i, tr in enumerate(personal_transformations):\n",
    "    img_np = np.array(temp, dtype=np.float32).reshape((28,28))\n",
    "    img_tr = tr( img_np )\n",
    "    res = np.array(img_tr).reshape(28,28)\n",
    "    fig, ax = plt.subplots()\n",
    "    ax.axis('off')\n",
    "    plt.imshow(res, cmap=\"gray\")\n",
    "    folder = path + f'\\\\{list_names[i]}.png' \n",
    "    plt.savefig(folder, bbox_inches='tight', pad_inches=0.0)"
   ]
  }
 ],
 "metadata": {
  "kernelspec": {
   "display_name": "base",
   "language": "python",
   "name": "python3"
  },
  "language_info": {
   "codemirror_mode": {
    "name": "ipython",
    "version": 3
   },
   "file_extension": ".py",
   "mimetype": "text/x-python",
   "name": "python",
   "nbconvert_exporter": "python",
   "pygments_lexer": "ipython3",
   "version": "3.10.10"
  },
  "orig_nbformat": 4
 },
 "nbformat": 4,
 "nbformat_minor": 2
}
